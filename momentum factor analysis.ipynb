{
 "cells": [
  {
   "cell_type": "code",
   "execution_count": 6,
   "metadata": {},
   "outputs": [
    {
     "name": "stdout",
     "output_type": "stream",
     "text": [
      "提示：当前环境 pandas 版本高于 0.25，get_price 与 get_fundamentals_continuously 接口 panel 参数将固定为 False\n",
      "注意：0.25 以上版本 pandas 不支持 panel，如使用该数据结构和相关函数请注意修改\n",
      "auth success \n"
     ]
    }
   ],
   "source": [
    "from jqdatasdk import *\n",
    "auth('18950478833','Tonylian0814@') "
   ]
  },
  {
   "cell_type": "code",
   "execution_count": 7,
   "metadata": {},
   "outputs": [
    {
     "data": {
      "text/plain": [
       "{'total': 1000000, 'spare': 1000000}"
      ]
     },
     "execution_count": 7,
     "metadata": {},
     "output_type": "execute_result"
    }
   ],
   "source": [
    "get_query_count()"
   ]
  },
  {
   "cell_type": "code",
   "execution_count": 8,
   "metadata": {},
   "outputs": [
    {
     "name": "stdout",
     "output_type": "stream",
     "text": [
      "         date    open    high     low   close\n",
      "0  2018-11-28  550.85  559.19  545.50  557.00\n",
      "1  2018-11-29  566.03  569.80  549.01  551.60\n",
      "2  2018-11-30  557.00  568.89  553.00  565.00\n",
      "3  2018-12-03  589.00  605.00  584.77  601.20\n",
      "4  2018-12-04  602.99  604.26  595.00  602.23\n"
     ]
    }
   ],
   "source": [
    "df = get_bars('600519.XSHG', 5, unit='1d',fields=['date','open','high','low','close'],include_now=False,end_dt='2018-12-05')\n",
    "print(df)"
   ]
  },
  {
   "cell_type": "code",
   "execution_count": 75,
   "metadata": {},
   "outputs": [],
   "source": [
    "# 设置起止时间\n",
    "start='2016-07-01'\n",
    "end='2017-07-01'\n",
    "# 设置调仓周期\n",
    "periods=(5,10,20)"
   ]
  },
  {
   "cell_type": "code",
   "execution_count": 76,
   "metadata": {},
   "outputs": [
    {
     "data": {
      "text/plain": [
       "array([datetime.date(2016, 7, 1), datetime.date(2016, 7, 4),\n",
       "       datetime.date(2016, 7, 5), datetime.date(2016, 7, 6),\n",
       "       datetime.date(2016, 7, 7), datetime.date(2016, 7, 8),\n",
       "       datetime.date(2016, 7, 11), datetime.date(2016, 7, 12),\n",
       "       datetime.date(2016, 7, 13), datetime.date(2016, 7, 14),\n",
       "       datetime.date(2016, 7, 15), datetime.date(2016, 7, 18),\n",
       "       datetime.date(2016, 7, 19), datetime.date(2016, 7, 20),\n",
       "       datetime.date(2016, 7, 21), datetime.date(2016, 7, 22),\n",
       "       datetime.date(2016, 7, 25), datetime.date(2016, 7, 26),\n",
       "       datetime.date(2016, 7, 27), datetime.date(2016, 7, 28),\n",
       "       datetime.date(2016, 7, 29), datetime.date(2016, 8, 1),\n",
       "       datetime.date(2016, 8, 2), datetime.date(2016, 8, 3),\n",
       "       datetime.date(2016, 8, 4), datetime.date(2016, 8, 5),\n",
       "       datetime.date(2016, 8, 8), datetime.date(2016, 8, 9),\n",
       "       datetime.date(2016, 8, 10), datetime.date(2016, 8, 11),\n",
       "       datetime.date(2016, 8, 12), datetime.date(2016, 8, 15),\n",
       "       datetime.date(2016, 8, 16), datetime.date(2016, 8, 17),\n",
       "       datetime.date(2016, 8, 18), datetime.date(2016, 8, 19),\n",
       "       datetime.date(2016, 8, 22), datetime.date(2016, 8, 23),\n",
       "       datetime.date(2016, 8, 24), datetime.date(2016, 8, 25),\n",
       "       datetime.date(2016, 8, 26), datetime.date(2016, 8, 29),\n",
       "       datetime.date(2016, 8, 30), datetime.date(2016, 8, 31),\n",
       "       datetime.date(2016, 9, 1), datetime.date(2016, 9, 2),\n",
       "       datetime.date(2016, 9, 5), datetime.date(2016, 9, 6),\n",
       "       datetime.date(2016, 9, 7), datetime.date(2016, 9, 8),\n",
       "       datetime.date(2016, 9, 9), datetime.date(2016, 9, 12),\n",
       "       datetime.date(2016, 9, 13), datetime.date(2016, 9, 14),\n",
       "       datetime.date(2016, 9, 19), datetime.date(2016, 9, 20),\n",
       "       datetime.date(2016, 9, 21), datetime.date(2016, 9, 22),\n",
       "       datetime.date(2016, 9, 23), datetime.date(2016, 9, 26),\n",
       "       datetime.date(2016, 9, 27), datetime.date(2016, 9, 28),\n",
       "       datetime.date(2016, 9, 29), datetime.date(2016, 9, 30),\n",
       "       datetime.date(2016, 10, 10), datetime.date(2016, 10, 11),\n",
       "       datetime.date(2016, 10, 12), datetime.date(2016, 10, 13),\n",
       "       datetime.date(2016, 10, 14), datetime.date(2016, 10, 17),\n",
       "       datetime.date(2016, 10, 18), datetime.date(2016, 10, 19),\n",
       "       datetime.date(2016, 10, 20), datetime.date(2016, 10, 21),\n",
       "       datetime.date(2016, 10, 24), datetime.date(2016, 10, 25),\n",
       "       datetime.date(2016, 10, 26), datetime.date(2016, 10, 27),\n",
       "       datetime.date(2016, 10, 28), datetime.date(2016, 10, 31),\n",
       "       datetime.date(2016, 11, 1), datetime.date(2016, 11, 2),\n",
       "       datetime.date(2016, 11, 3), datetime.date(2016, 11, 4),\n",
       "       datetime.date(2016, 11, 7), datetime.date(2016, 11, 8),\n",
       "       datetime.date(2016, 11, 9), datetime.date(2016, 11, 10),\n",
       "       datetime.date(2016, 11, 11), datetime.date(2016, 11, 14),\n",
       "       datetime.date(2016, 11, 15), datetime.date(2016, 11, 16),\n",
       "       datetime.date(2016, 11, 17), datetime.date(2016, 11, 18),\n",
       "       datetime.date(2016, 11, 21), datetime.date(2016, 11, 22),\n",
       "       datetime.date(2016, 11, 23), datetime.date(2016, 11, 24),\n",
       "       datetime.date(2016, 11, 25), datetime.date(2016, 11, 28),\n",
       "       datetime.date(2016, 11, 29), datetime.date(2016, 11, 30),\n",
       "       datetime.date(2016, 12, 1), datetime.date(2016, 12, 2),\n",
       "       datetime.date(2016, 12, 5), datetime.date(2016, 12, 6),\n",
       "       datetime.date(2016, 12, 7), datetime.date(2016, 12, 8),\n",
       "       datetime.date(2016, 12, 9), datetime.date(2016, 12, 12),\n",
       "       datetime.date(2016, 12, 13), datetime.date(2016, 12, 14),\n",
       "       datetime.date(2016, 12, 15), datetime.date(2016, 12, 16),\n",
       "       datetime.date(2016, 12, 19), datetime.date(2016, 12, 20),\n",
       "       datetime.date(2016, 12, 21), datetime.date(2016, 12, 22),\n",
       "       datetime.date(2016, 12, 23), datetime.date(2016, 12, 26),\n",
       "       datetime.date(2016, 12, 27), datetime.date(2016, 12, 28),\n",
       "       datetime.date(2016, 12, 29), datetime.date(2016, 12, 30),\n",
       "       datetime.date(2017, 1, 3), datetime.date(2017, 1, 4),\n",
       "       datetime.date(2017, 1, 5), datetime.date(2017, 1, 6),\n",
       "       datetime.date(2017, 1, 9), datetime.date(2017, 1, 10),\n",
       "       datetime.date(2017, 1, 11), datetime.date(2017, 1, 12),\n",
       "       datetime.date(2017, 1, 13), datetime.date(2017, 1, 16),\n",
       "       datetime.date(2017, 1, 17), datetime.date(2017, 1, 18),\n",
       "       datetime.date(2017, 1, 19), datetime.date(2017, 1, 20),\n",
       "       datetime.date(2017, 1, 23), datetime.date(2017, 1, 24),\n",
       "       datetime.date(2017, 1, 25), datetime.date(2017, 1, 26),\n",
       "       datetime.date(2017, 2, 3), datetime.date(2017, 2, 6),\n",
       "       datetime.date(2017, 2, 7), datetime.date(2017, 2, 8),\n",
       "       datetime.date(2017, 2, 9), datetime.date(2017, 2, 10),\n",
       "       datetime.date(2017, 2, 13), datetime.date(2017, 2, 14),\n",
       "       datetime.date(2017, 2, 15), datetime.date(2017, 2, 16),\n",
       "       datetime.date(2017, 2, 17), datetime.date(2017, 2, 20),\n",
       "       datetime.date(2017, 2, 21), datetime.date(2017, 2, 22),\n",
       "       datetime.date(2017, 2, 23), datetime.date(2017, 2, 24),\n",
       "       datetime.date(2017, 2, 27), datetime.date(2017, 2, 28),\n",
       "       datetime.date(2017, 3, 1), datetime.date(2017, 3, 2),\n",
       "       datetime.date(2017, 3, 3), datetime.date(2017, 3, 6),\n",
       "       datetime.date(2017, 3, 7), datetime.date(2017, 3, 8),\n",
       "       datetime.date(2017, 3, 9), datetime.date(2017, 3, 10),\n",
       "       datetime.date(2017, 3, 13), datetime.date(2017, 3, 14),\n",
       "       datetime.date(2017, 3, 15), datetime.date(2017, 3, 16),\n",
       "       datetime.date(2017, 3, 17), datetime.date(2017, 3, 20),\n",
       "       datetime.date(2017, 3, 21), datetime.date(2017, 3, 22),\n",
       "       datetime.date(2017, 3, 23), datetime.date(2017, 3, 24),\n",
       "       datetime.date(2017, 3, 27), datetime.date(2017, 3, 28),\n",
       "       datetime.date(2017, 3, 29), datetime.date(2017, 3, 30),\n",
       "       datetime.date(2017, 3, 31), datetime.date(2017, 4, 5),\n",
       "       datetime.date(2017, 4, 6), datetime.date(2017, 4, 7),\n",
       "       datetime.date(2017, 4, 10), datetime.date(2017, 4, 11),\n",
       "       datetime.date(2017, 4, 12), datetime.date(2017, 4, 13),\n",
       "       datetime.date(2017, 4, 14), datetime.date(2017, 4, 17),\n",
       "       datetime.date(2017, 4, 18), datetime.date(2017, 4, 19),\n",
       "       datetime.date(2017, 4, 20), datetime.date(2017, 4, 21),\n",
       "       datetime.date(2017, 4, 24), datetime.date(2017, 4, 25),\n",
       "       datetime.date(2017, 4, 26), datetime.date(2017, 4, 27),\n",
       "       datetime.date(2017, 4, 28), datetime.date(2017, 5, 2),\n",
       "       datetime.date(2017, 5, 3), datetime.date(2017, 5, 4),\n",
       "       datetime.date(2017, 5, 5), datetime.date(2017, 5, 8),\n",
       "       datetime.date(2017, 5, 9), datetime.date(2017, 5, 10),\n",
       "       datetime.date(2017, 5, 11), datetime.date(2017, 5, 12),\n",
       "       datetime.date(2017, 5, 15), datetime.date(2017, 5, 16),\n",
       "       datetime.date(2017, 5, 17), datetime.date(2017, 5, 18),\n",
       "       datetime.date(2017, 5, 19), datetime.date(2017, 5, 22),\n",
       "       datetime.date(2017, 5, 23), datetime.date(2017, 5, 24),\n",
       "       datetime.date(2017, 5, 25), datetime.date(2017, 5, 26),\n",
       "       datetime.date(2017, 5, 31), datetime.date(2017, 6, 1),\n",
       "       datetime.date(2017, 6, 2), datetime.date(2017, 6, 5),\n",
       "       datetime.date(2017, 6, 6), datetime.date(2017, 6, 7),\n",
       "       datetime.date(2017, 6, 8), datetime.date(2017, 6, 9),\n",
       "       datetime.date(2017, 6, 12), datetime.date(2017, 6, 13),\n",
       "       datetime.date(2017, 6, 14), datetime.date(2017, 6, 15),\n",
       "       datetime.date(2017, 6, 16), datetime.date(2017, 6, 19),\n",
       "       datetime.date(2017, 6, 20), datetime.date(2017, 6, 21),\n",
       "       datetime.date(2017, 6, 22), datetime.date(2017, 6, 23),\n",
       "       datetime.date(2017, 6, 26), datetime.date(2017, 6, 27),\n",
       "       datetime.date(2017, 6, 28), datetime.date(2017, 6, 29),\n",
       "       datetime.date(2017, 6, 30)], dtype=object)"
      ]
     },
     "execution_count": 76,
     "metadata": {},
     "output_type": "execute_result"
    }
   ],
   "source": [
    "quantiles=5\n",
    "#获取日期列表\n",
    "date_list = get_trade_days(start_date=start,end_date=end,count=None)#获取回测日期间的所有交易日\n",
    "date_list"
   ]
  },
  {
   "cell_type": "code",
   "execution_count": 25,
   "metadata": {},
   "outputs": [],
   "source": [
    "import numpy as np"
   ]
  },
  {
   "cell_type": "code",
   "execution_count": 35,
   "metadata": {},
   "outputs": [],
   "source": [
    "df = get_price('000001.XSHE',end_date='2019-07-12',count=21,fields=['close'])['close']\n",
    "far = df.iloc[-1,]/df.iloc[0,] - 1"
   ]
  },
  {
   "cell_type": "code",
   "execution_count": 39,
   "metadata": {},
   "outputs": [
    {
     "data": {
      "text/plain": [
       "0.14238683127572016"
      ]
     },
     "execution_count": 39,
     "metadata": {},
     "output_type": "execute_result"
    }
   ],
   "source": [
    "def factor_cal(pool,date):\n",
    "    df = get_price(pool,end_date=date,count=21,fields=['close'])['close'] \n",
    "    far = df.iloc[-1,]/df.iloc[0,] - 1\n",
    "    return far\n",
    "factor_cal(['600000.XSHG'],'2019-07-12')\n",
    "factor_cal(['000001.XSHE'],'2019-07-12')"
   ]
  },
  {
   "cell_type": "code",
   "execution_count": 20,
   "metadata": {},
   "outputs": [],
   "source": [
    "import pandas as pd"
   ]
  },
  {
   "cell_type": "code",
   "execution_count": 80,
   "metadata": {},
   "outputs": [
    {
     "ename": "KeyboardInterrupt",
     "evalue": "",
     "output_type": "error",
     "traceback": [
      "\u001b[0;31m---------------------------------------------------------------------------\u001b[0m",
      "\u001b[0;31mKeyboardInterrupt\u001b[0m                         Traceback (most recent call last)",
      "\u001b[0;32m<ipython-input-80-118b243680c3>\u001b[0m in \u001b[0;36m<module>\u001b[0;34m\u001b[0m\n\u001b[1;32m      5\u001b[0m \u001b[0;32mfor\u001b[0m \u001b[0md\u001b[0m \u001b[0;32min\u001b[0m \u001b[0mdate_list\u001b[0m\u001b[0;34m:\u001b[0m\u001b[0;34m\u001b[0m\u001b[0;34m\u001b[0m\u001b[0m\n\u001b[1;32m      6\u001b[0m     \u001b[0mpool\u001b[0m \u001b[0;34m=\u001b[0m \u001b[0mget_index_stocks\u001b[0m\u001b[0;34m(\u001b[0m\u001b[0;34m'000905.XSHG'\u001b[0m\u001b[0;34m,\u001b[0m\u001b[0mdate\u001b[0m\u001b[0;34m=\u001b[0m\u001b[0md\u001b[0m\u001b[0;34m)\u001b[0m\u001b[0;34m\u001b[0m\u001b[0;34m\u001b[0m\u001b[0m\n\u001b[0;32m----> 7\u001b[0;31m     \u001b[0mfar\u001b[0m \u001b[0;34m=\u001b[0m \u001b[0mpd\u001b[0m\u001b[0;34m.\u001b[0m\u001b[0mDataFrame\u001b[0m\u001b[0;34m(\u001b[0m\u001b[0;34m[\u001b[0m\u001b[0mfactor_cal\u001b[0m\u001b[0;34m(\u001b[0m\u001b[0mpool\u001b[0m\u001b[0;34m,\u001b[0m\u001b[0md\u001b[0m\u001b[0;34m)\u001b[0m\u001b[0;34m]\u001b[0m\u001b[0;34m)\u001b[0m\u001b[0;34m\u001b[0m\u001b[0;34m\u001b[0m\u001b[0m\n\u001b[0m\u001b[1;32m      8\u001b[0m     \u001b[0;32mif\u001b[0m \u001b[0mmark\u001b[0m \u001b[0;34m==\u001b[0m \u001b[0;36m1\u001b[0m\u001b[0;34m:\u001b[0m\u001b[0;34m\u001b[0m\u001b[0;34m\u001b[0m\u001b[0m\n\u001b[1;32m      9\u001b[0m         \u001b[0mfactor_df\u001b[0m \u001b[0;34m=\u001b[0m \u001b[0mfar\u001b[0m\u001b[0;34m\u001b[0m\u001b[0;34m\u001b[0m\u001b[0m\n",
      "\u001b[0;32m<ipython-input-39-dcce94d1dc7b>\u001b[0m in \u001b[0;36mfactor_cal\u001b[0;34m(pool, date)\u001b[0m\n\u001b[1;32m      1\u001b[0m \u001b[0;32mdef\u001b[0m \u001b[0mfactor_cal\u001b[0m\u001b[0;34m(\u001b[0m\u001b[0mpool\u001b[0m\u001b[0;34m,\u001b[0m\u001b[0mdate\u001b[0m\u001b[0;34m)\u001b[0m\u001b[0;34m:\u001b[0m\u001b[0;34m\u001b[0m\u001b[0;34m\u001b[0m\u001b[0m\n\u001b[0;32m----> 2\u001b[0;31m     \u001b[0mdf\u001b[0m \u001b[0;34m=\u001b[0m \u001b[0mget_price\u001b[0m\u001b[0;34m(\u001b[0m\u001b[0mpool\u001b[0m\u001b[0;34m,\u001b[0m\u001b[0mend_date\u001b[0m\u001b[0;34m=\u001b[0m\u001b[0mdate\u001b[0m\u001b[0;34m,\u001b[0m\u001b[0mcount\u001b[0m\u001b[0;34m=\u001b[0m\u001b[0;36m21\u001b[0m\u001b[0;34m,\u001b[0m\u001b[0mfields\u001b[0m\u001b[0;34m=\u001b[0m\u001b[0;34m[\u001b[0m\u001b[0;34m'close'\u001b[0m\u001b[0;34m]\u001b[0m\u001b[0;34m)\u001b[0m\u001b[0;34m[\u001b[0m\u001b[0;34m'close'\u001b[0m\u001b[0;34m]\u001b[0m\u001b[0;34m\u001b[0m\u001b[0;34m\u001b[0m\u001b[0m\n\u001b[0m\u001b[1;32m      3\u001b[0m     \u001b[0mfar\u001b[0m \u001b[0;34m=\u001b[0m \u001b[0mdf\u001b[0m\u001b[0;34m.\u001b[0m\u001b[0miloc\u001b[0m\u001b[0;34m[\u001b[0m\u001b[0;34m-\u001b[0m\u001b[0;36m1\u001b[0m\u001b[0;34m,\u001b[0m\u001b[0;34m]\u001b[0m\u001b[0;34m/\u001b[0m\u001b[0mdf\u001b[0m\u001b[0;34m.\u001b[0m\u001b[0miloc\u001b[0m\u001b[0;34m[\u001b[0m\u001b[0;36m0\u001b[0m\u001b[0;34m,\u001b[0m\u001b[0;34m]\u001b[0m \u001b[0;34m-\u001b[0m \u001b[0;36m1\u001b[0m\u001b[0;34m\u001b[0m\u001b[0;34m\u001b[0m\u001b[0m\n\u001b[1;32m      4\u001b[0m     \u001b[0;32mreturn\u001b[0m \u001b[0mfar\u001b[0m\u001b[0;34m\u001b[0m\u001b[0;34m\u001b[0m\u001b[0m\n\u001b[1;32m      5\u001b[0m \u001b[0mfactor_cal\u001b[0m\u001b[0;34m(\u001b[0m\u001b[0;34m[\u001b[0m\u001b[0;34m'600000.XSHG'\u001b[0m\u001b[0;34m]\u001b[0m\u001b[0;34m,\u001b[0m\u001b[0;34m'2019-07-12'\u001b[0m\u001b[0;34m)\u001b[0m\u001b[0;34m\u001b[0m\u001b[0;34m\u001b[0m\u001b[0m\n",
      "\u001b[0;32m~/opt/anaconda3/lib/python3.8/site-packages/jqdatasdk/utils.py\u001b[0m in \u001b[0;36m_wrapper\u001b[0;34m(*args, **kwargs)\u001b[0m\n\u001b[1;32m    239\u001b[0m             \u001b[0mprint\u001b[0m\u001b[0;34m(\u001b[0m\u001b[0;34m\"run jqdatasdk.auth first\"\u001b[0m\u001b[0;34m)\u001b[0m\u001b[0;34m\u001b[0m\u001b[0;34m\u001b[0m\u001b[0m\n\u001b[1;32m    240\u001b[0m         \u001b[0;32melse\u001b[0m\u001b[0;34m:\u001b[0m\u001b[0;34m\u001b[0m\u001b[0;34m\u001b[0m\u001b[0m\n\u001b[0;32m--> 241\u001b[0;31m             \u001b[0;32mreturn\u001b[0m \u001b[0mfunc\u001b[0m\u001b[0;34m(\u001b[0m\u001b[0;34m*\u001b[0m\u001b[0margs\u001b[0m\u001b[0;34m,\u001b[0m \u001b[0;34m**\u001b[0m\u001b[0mkwargs\u001b[0m\u001b[0;34m)\u001b[0m\u001b[0;34m\u001b[0m\u001b[0;34m\u001b[0m\u001b[0m\n\u001b[0m\u001b[1;32m    242\u001b[0m     \u001b[0;32mreturn\u001b[0m \u001b[0m_wrapper\u001b[0m\u001b[0;34m\u001b[0m\u001b[0;34m\u001b[0m\u001b[0m\n\u001b[1;32m    243\u001b[0m \u001b[0;34m\u001b[0m\u001b[0m\n",
      "\u001b[0;32m~/opt/anaconda3/lib/python3.8/site-packages/jqdatasdk/api.py\u001b[0m in \u001b[0;36mget_price\u001b[0;34m(security, start_date, end_date, frequency, fields, skip_paused, fq, count, panel, fill_paused)\u001b[0m\n\u001b[1;32m     35\u001b[0m     \u001b[0;32mif\u001b[0m \u001b[0mcount\u001b[0m \u001b[0;32mand\u001b[0m \u001b[0mstart_date\u001b[0m\u001b[0;34m:\u001b[0m\u001b[0;34m\u001b[0m\u001b[0;34m\u001b[0m\u001b[0m\n\u001b[1;32m     36\u001b[0m         \u001b[0;32mraise\u001b[0m \u001b[0mParamsError\u001b[0m\u001b[0;34m(\u001b[0m\u001b[0;34m\"(start_date, count) only one param is required\"\u001b[0m\u001b[0;34m)\u001b[0m\u001b[0;34m\u001b[0m\u001b[0;34m\u001b[0m\u001b[0m\n\u001b[0;32m---> 37\u001b[0;31m     \u001b[0;32mreturn\u001b[0m \u001b[0mJQDataClient\u001b[0m\u001b[0;34m.\u001b[0m\u001b[0minstance\u001b[0m\u001b[0;34m(\u001b[0m\u001b[0;34m)\u001b[0m\u001b[0;34m.\u001b[0m\u001b[0mget_price\u001b[0m\u001b[0;34m(\u001b[0m\u001b[0;34m**\u001b[0m\u001b[0mlocals\u001b[0m\u001b[0;34m(\u001b[0m\u001b[0;34m)\u001b[0m\u001b[0;34m)\u001b[0m\u001b[0;34m\u001b[0m\u001b[0;34m\u001b[0m\u001b[0m\n\u001b[0m\u001b[1;32m     38\u001b[0m \u001b[0;34m\u001b[0m\u001b[0m\n\u001b[1;32m     39\u001b[0m \u001b[0;34m\u001b[0m\u001b[0m\n",
      "\u001b[0;32m~/opt/anaconda3/lib/python3.8/site-packages/jqdatasdk/client.py\u001b[0m in \u001b[0;36m<lambda>\u001b[0;34m(**kwargs)\u001b[0m\n\u001b[1;32m    238\u001b[0m \u001b[0;34m\u001b[0m\u001b[0m\n\u001b[1;32m    239\u001b[0m     \u001b[0;32mdef\u001b[0m \u001b[0m__getattr__\u001b[0m\u001b[0;34m(\u001b[0m\u001b[0mself\u001b[0m\u001b[0;34m,\u001b[0m \u001b[0mmethod\u001b[0m\u001b[0;34m)\u001b[0m\u001b[0;34m:\u001b[0m\u001b[0;34m\u001b[0m\u001b[0;34m\u001b[0m\u001b[0m\n\u001b[0;32m--> 240\u001b[0;31m         \u001b[0;32mreturn\u001b[0m \u001b[0;32mlambda\u001b[0m \u001b[0;34m**\u001b[0m\u001b[0mkwargs\u001b[0m\u001b[0;34m:\u001b[0m \u001b[0mself\u001b[0m\u001b[0;34m(\u001b[0m\u001b[0mmethod\u001b[0m\u001b[0;34m,\u001b[0m \u001b[0;34m**\u001b[0m\u001b[0mkwargs\u001b[0m\u001b[0;34m)\u001b[0m\u001b[0;34m\u001b[0m\u001b[0;34m\u001b[0m\u001b[0m\n\u001b[0m\u001b[1;32m    241\u001b[0m \u001b[0;34m\u001b[0m\u001b[0m\n\u001b[1;32m    242\u001b[0m     \u001b[0;32mdef\u001b[0m \u001b[0mget_data_api_url\u001b[0m\u001b[0;34m(\u001b[0m\u001b[0mself\u001b[0m\u001b[0;34m)\u001b[0m\u001b[0;34m:\u001b[0m\u001b[0;34m\u001b[0m\u001b[0;34m\u001b[0m\u001b[0m\n",
      "\u001b[0;32m~/opt/anaconda3/lib/python3.8/site-packages/jqdatasdk/client.py\u001b[0m in \u001b[0;36m__call__\u001b[0;34m(self, method, **kwargs)\u001b[0m\n\u001b[1;32m    201\u001b[0m                 \u001b[0mfile\u001b[0m \u001b[0;34m=\u001b[0m \u001b[0msix\u001b[0m\u001b[0;34m.\u001b[0m\u001b[0mBytesIO\u001b[0m\u001b[0;34m(\u001b[0m\u001b[0;34m)\u001b[0m\u001b[0;34m\u001b[0m\u001b[0;34m\u001b[0m\u001b[0m\n\u001b[1;32m    202\u001b[0m                 \u001b[0mself\u001b[0m\u001b[0;34m.\u001b[0m\u001b[0mensure_auth\u001b[0m\u001b[0;34m(\u001b[0m\u001b[0;34m)\u001b[0m\u001b[0;34m\u001b[0m\u001b[0;34m\u001b[0m\u001b[0m\n\u001b[0;32m--> 203\u001b[0;31m                 \u001b[0mresponse\u001b[0m \u001b[0;34m=\u001b[0m \u001b[0mself\u001b[0m\u001b[0;34m.\u001b[0m\u001b[0mclient\u001b[0m\u001b[0;34m.\u001b[0m\u001b[0mquery\u001b[0m\u001b[0;34m(\u001b[0m\u001b[0mrequest\u001b[0m\u001b[0;34m)\u001b[0m\u001b[0;34m\u001b[0m\u001b[0;34m\u001b[0m\u001b[0m\n\u001b[0m\u001b[1;32m    204\u001b[0m                 \u001b[0;32mif\u001b[0m \u001b[0mresponse\u001b[0m\u001b[0;34m.\u001b[0m\u001b[0mstatus\u001b[0m\u001b[0;34m:\u001b[0m\u001b[0;34m\u001b[0m\u001b[0;34m\u001b[0m\u001b[0m\n\u001b[1;32m    205\u001b[0m                     \u001b[0mbuffer\u001b[0m \u001b[0;34m=\u001b[0m \u001b[0mresponse\u001b[0m\u001b[0;34m.\u001b[0m\u001b[0mmsg\u001b[0m\u001b[0;34m\u001b[0m\u001b[0;34m\u001b[0m\u001b[0m\n",
      "\u001b[0;32m~/opt/anaconda3/lib/python3.8/site-packages/thriftpy2/thrift.py\u001b[0m in \u001b[0;36m_req\u001b[0;34m(self, _api, *args, **kwargs)\u001b[0m\n\u001b[1;32m    217\u001b[0m         \u001b[0;31m# wait result only if non-oneway\u001b[0m\u001b[0;34m\u001b[0m\u001b[0;34m\u001b[0m\u001b[0;34m\u001b[0m\u001b[0m\n\u001b[1;32m    218\u001b[0m         \u001b[0;32mif\u001b[0m \u001b[0;32mnot\u001b[0m \u001b[0mgetattr\u001b[0m\u001b[0;34m(\u001b[0m\u001b[0mresult_cls\u001b[0m\u001b[0;34m,\u001b[0m \u001b[0;34m\"oneway\"\u001b[0m\u001b[0;34m)\u001b[0m\u001b[0;34m:\u001b[0m\u001b[0;34m\u001b[0m\u001b[0;34m\u001b[0m\u001b[0m\n\u001b[0;32m--> 219\u001b[0;31m             \u001b[0;32mreturn\u001b[0m \u001b[0mself\u001b[0m\u001b[0;34m.\u001b[0m\u001b[0m_recv\u001b[0m\u001b[0;34m(\u001b[0m\u001b[0m_api\u001b[0m\u001b[0;34m)\u001b[0m\u001b[0;34m\u001b[0m\u001b[0;34m\u001b[0m\u001b[0m\n\u001b[0m\u001b[1;32m    220\u001b[0m \u001b[0;34m\u001b[0m\u001b[0m\n\u001b[1;32m    221\u001b[0m     \u001b[0;32mdef\u001b[0m \u001b[0m_send\u001b[0m\u001b[0;34m(\u001b[0m\u001b[0mself\u001b[0m\u001b[0;34m,\u001b[0m \u001b[0m_api\u001b[0m\u001b[0;34m,\u001b[0m \u001b[0;34m**\u001b[0m\u001b[0mkwargs\u001b[0m\u001b[0;34m)\u001b[0m\u001b[0;34m:\u001b[0m\u001b[0;34m\u001b[0m\u001b[0;34m\u001b[0m\u001b[0m\n",
      "\u001b[0;32m~/opt/anaconda3/lib/python3.8/site-packages/thriftpy2/thrift.py\u001b[0m in \u001b[0;36m_recv\u001b[0;34m(self, _api)\u001b[0m\n\u001b[1;32m    229\u001b[0m \u001b[0;34m\u001b[0m\u001b[0m\n\u001b[1;32m    230\u001b[0m     \u001b[0;32mdef\u001b[0m \u001b[0m_recv\u001b[0m\u001b[0;34m(\u001b[0m\u001b[0mself\u001b[0m\u001b[0;34m,\u001b[0m \u001b[0m_api\u001b[0m\u001b[0;34m)\u001b[0m\u001b[0;34m:\u001b[0m\u001b[0;34m\u001b[0m\u001b[0;34m\u001b[0m\u001b[0m\n\u001b[0;32m--> 231\u001b[0;31m         \u001b[0mfname\u001b[0m\u001b[0;34m,\u001b[0m \u001b[0mmtype\u001b[0m\u001b[0;34m,\u001b[0m \u001b[0mrseqid\u001b[0m \u001b[0;34m=\u001b[0m \u001b[0mself\u001b[0m\u001b[0;34m.\u001b[0m\u001b[0m_iprot\u001b[0m\u001b[0;34m.\u001b[0m\u001b[0mread_message_begin\u001b[0m\u001b[0;34m(\u001b[0m\u001b[0;34m)\u001b[0m\u001b[0;34m\u001b[0m\u001b[0;34m\u001b[0m\u001b[0m\n\u001b[0m\u001b[1;32m    232\u001b[0m         \u001b[0;32mif\u001b[0m \u001b[0mmtype\u001b[0m \u001b[0;34m==\u001b[0m \u001b[0mTMessageType\u001b[0m\u001b[0;34m.\u001b[0m\u001b[0mEXCEPTION\u001b[0m\u001b[0;34m:\u001b[0m\u001b[0;34m\u001b[0m\u001b[0;34m\u001b[0m\u001b[0m\n\u001b[1;32m    233\u001b[0m             \u001b[0mx\u001b[0m \u001b[0;34m=\u001b[0m \u001b[0mTApplicationException\u001b[0m\u001b[0;34m(\u001b[0m\u001b[0;34m)\u001b[0m\u001b[0;34m\u001b[0m\u001b[0;34m\u001b[0m\u001b[0m\n",
      "\u001b[0;32m~/opt/anaconda3/lib/python3.8/site-packages/thriftpy2/protocol/cybin/cybin.pyx\u001b[0m in \u001b[0;36mcybin.TCyBinaryProtocol.read_message_begin\u001b[0;34m()\u001b[0m\n",
      "\u001b[0;32m~/opt/anaconda3/lib/python3.8/site-packages/thriftpy2/protocol/cybin/cybin.pyx\u001b[0m in \u001b[0;36mcybin.read_i32\u001b[0;34m()\u001b[0m\n",
      "\u001b[0;32m~/opt/anaconda3/lib/python3.8/site-packages/thriftpy2/transport/buffered/cybuffered.pyx\u001b[0m in \u001b[0;36mthriftpy2.transport.buffered.cybuffered.TCyBufferedTransport.c_read\u001b[0;34m()\u001b[0m\n",
      "\u001b[0;32m~/opt/anaconda3/lib/python3.8/site-packages/thriftpy2/transport/buffered/cybuffered.pyx\u001b[0m in \u001b[0;36mthriftpy2.transport.buffered.cybuffered.TCyBufferedTransport.read_trans\u001b[0;34m()\u001b[0m\n",
      "\u001b[0;32m~/opt/anaconda3/lib/python3.8/site-packages/thriftpy2/transport/cybase.pyx\u001b[0m in \u001b[0;36mthriftpy2.transport.cybase.TCyBuffer.read_trans\u001b[0;34m()\u001b[0m\n",
      "\u001b[0;32m~/opt/anaconda3/lib/python3.8/site-packages/thriftpy2/transport/socket.py\u001b[0m in \u001b[0;36mread\u001b[0;34m(self, sz)\u001b[0m\n\u001b[1;32m    108\u001b[0m         \u001b[0;32mwhile\u001b[0m \u001b[0;32mTrue\u001b[0m\u001b[0;34m:\u001b[0m\u001b[0;34m\u001b[0m\u001b[0;34m\u001b[0m\u001b[0m\n\u001b[1;32m    109\u001b[0m             \u001b[0;32mtry\u001b[0m\u001b[0;34m:\u001b[0m\u001b[0;34m\u001b[0m\u001b[0;34m\u001b[0m\u001b[0m\n\u001b[0;32m--> 110\u001b[0;31m                 \u001b[0mbuff\u001b[0m \u001b[0;34m=\u001b[0m \u001b[0mself\u001b[0m\u001b[0;34m.\u001b[0m\u001b[0msock\u001b[0m\u001b[0;34m.\u001b[0m\u001b[0mrecv\u001b[0m\u001b[0;34m(\u001b[0m\u001b[0msz\u001b[0m\u001b[0;34m)\u001b[0m\u001b[0;34m\u001b[0m\u001b[0;34m\u001b[0m\u001b[0m\n\u001b[0m\u001b[1;32m    111\u001b[0m             \u001b[0;32mexcept\u001b[0m \u001b[0msocket\u001b[0m\u001b[0;34m.\u001b[0m\u001b[0merror\u001b[0m \u001b[0;32mas\u001b[0m \u001b[0me\u001b[0m\u001b[0;34m:\u001b[0m\u001b[0;34m\u001b[0m\u001b[0;34m\u001b[0m\u001b[0m\n\u001b[1;32m    112\u001b[0m                 \u001b[0;32mif\u001b[0m \u001b[0me\u001b[0m\u001b[0;34m.\u001b[0m\u001b[0merrno\u001b[0m \u001b[0;34m==\u001b[0m \u001b[0merrno\u001b[0m\u001b[0;34m.\u001b[0m\u001b[0mEINTR\u001b[0m\u001b[0;34m:\u001b[0m\u001b[0;34m\u001b[0m\u001b[0;34m\u001b[0m\u001b[0m\n",
      "\u001b[0;31mKeyboardInterrupt\u001b[0m: "
     ]
    }
   ],
   "source": [
    "#定义一个空的dataframe记录因子值\n",
    "factor_df = pd.DataFrame()\n",
    "#循环计算给定日期范围的因子值\n",
    "mark = 1\n",
    "for d in date_list:\n",
    "    pool = get_index_stocks('000905.XSHG',date=d)\n",
    "    far = pd.DataFrame([factor_cal(pool,d)])\n",
    "    if mark == 1:\n",
    "        factor_df = far\n",
    "        mark = 0\n",
    "    else:\n",
    "        factor_df = factor_df.append(far)\n",
    "#将columns更改为可以日期标签\n",
    "factor_df.T.columns = date_list\n",
    "factor_df.head(3)"
   ]
  },
  {
   "cell_type": "code",
   "execution_count": 55,
   "metadata": {},
   "outputs": [
    {
     "data": {
      "text/plain": [
       "0.4960998439937596"
      ]
     },
     "execution_count": 55,
     "metadata": {},
     "output_type": "execute_result"
    }
   ],
   "source": [
    "#数据清洗、包括去极值、标准化、中性化等,并加入y值\n",
    "for date in date_list:\n",
    "    #对数据进行处理、标准化、去极值、中性化\n",
    "    #factor_df = winsorize_med(factor_df, scale=3, inclusive=True, inf2nan=True, axis=0) #中位数去极值处理\n",
    "    se = standardlize(factor_df[date], inf2nan=True) #对每列做标准化处理\n",
    "    se = neutralize(se, how=['liquidity'], date=date)#剔除原始因子值与流动性相关的部分\n",
    "    factor_df[date] = se\n",
    "#进行转置，调整为分析可用的格式\n",
    "factor_df = factor_df.T\n",
    "factor_df.head()"
   ]
  },
  {
   "cell_type": "code",
   "execution_count": 72,
   "metadata": {},
   "outputs": [
    {
     "name": "stdout",
     "output_type": "stream",
     "text": [
      "已退出\n"
     ]
    }
   ],
   "source": [
    "#使用获取的因子值进行单因子分析\n",
    "far = analyze_factor(factor=factor_df, start_date=date_list[0], end_date=date_list[-1], weight_method='avg', industry='jq_l1', quantiles=quantiles, periods=periods,max_loss=0.3)"
   ]
  },
  {
   "cell_type": "code",
   "execution_count": 73,
   "metadata": {},
   "outputs": [
    {
     "name": "stdout",
     "output_type": "stream",
     "text": [
      "auth success \n"
     ]
    }
   ],
   "source": [
    "# 打印信息比率（IC）相关表\n",
    "far.plot_information_table(group_adjust=False, method='rank')"
   ]
  },
  {
   "cell_type": "code",
   "execution_count": null,
   "metadata": {},
   "outputs": [],
   "source": [
    "# 画各分位数平均收益图\n",
    "far.plot_quantile_returns_bar(by_group=False, demeaned=0, group_adjust=False)"
   ]
  },
  {
   "cell_type": "code",
   "execution_count": null,
   "metadata": {},
   "outputs": [],
   "source": [
    "# 打印换手率表\n",
    "far.plot_turnover_table()"
   ]
  },
  {
   "cell_type": "code",
   "execution_count": null,
   "metadata": {},
   "outputs": [],
   "source": [
    "#调用因子分析方法，进行因子信息全览\n",
    "far.create_full_tear_sheet(demeaned=False, group_adjust=False, by_group=False, turnover_periods=None, avgretplot=(5, 15), std_bar=False)"
   ]
  }
 ],
 "metadata": {
  "kernelspec": {
   "display_name": "Python 3",
   "language": "python",
   "name": "python3"
  },
  "language_info": {
   "codemirror_mode": {
    "name": "ipython",
    "version": 3
   },
   "file_extension": ".py",
   "mimetype": "text/x-python",
   "name": "python",
   "nbconvert_exporter": "python",
   "pygments_lexer": "ipython3",
   "version": "3.8.3"
  }
 },
 "nbformat": 4,
 "nbformat_minor": 4
}
